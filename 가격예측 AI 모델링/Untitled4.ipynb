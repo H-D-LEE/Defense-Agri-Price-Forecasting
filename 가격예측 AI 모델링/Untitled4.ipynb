{
  "nbformat": 4,
  "nbformat_minor": 0,
  "metadata": {
    "colab": {
      "provenance": []
    },
    "kernelspec": {
      "name": "python3",
      "display_name": "Python 3"
    },
    "language_info": {
      "name": "python"
    }
  },
  "cells": [
    {
      "cell_type": "code",
      "execution_count": 1,
      "metadata": {
        "id": "7MynWiKdnWRi"
      },
      "outputs": [],
      "source": [
        "import numpy as np\n",
        "import pandas as pd\n",
        "import torch\n",
        "from torch.utils.data import Dataset, DataLoader\n",
        "from sklearn.preprocessing import MinMaxScaler\n",
        "\n",
        "# 예제 데이터 생성 (10년치 일일 데이터: 환경 변수와 가격)\n",
        "np.random.seed(42)\n",
        "df_1=pd.read_csv('/content/sample_data/감자_상품_100g_일별소매가.csv',encoding='cp949')\n",
        "df_1=df_1[['구분','유통업체']]\n",
        "df_1['구분']=pd.to_datetime(df_1['구분'], format='%Y-%m-%d')\n",
        "df=pd.read_excel('/content/sample_data/데이터 합.xlsx')\n",
        "df=df.rename(columns={'분류':'구분'})\n",
        "\n",
        "df['sin_month'] = np.sin(2 * np.pi * df['구분'].dt.month / 12)\n",
        "df['cos_month'] = np.cos(2 * np.pi * df['구분'].dt.month / 12)\n",
        "\n",
        "# 일 데이터를 원형으로 변환\n",
        "df['day_of_year'] = df['구분'].dt.dayofyear\n",
        "df['sin_day'] = np.sin(2 * np.pi * df['day_of_year'] / 365)\n",
        "df['cos_day'] = np.cos(2 * np.pi * df['day_of_year'] / 365)\n",
        "\n",
        "df=pd.merge(df,df_1,left_on='구분',right_on='구분',how='left')\n",
        "df=df.drop(columns='구분')\n",
        "# 데이터 정규화\n",
        "scaler = MinMaxScaler()\n",
        "scaled_data = scaler.fit_transform(df)\n",
        "\n",
        "# 입력(X)과 출력(y) 생성\n",
        "sequence_length = 365  # 지난 sequence_length일 데이터로 다음날 가격 예측\n",
        "X, y = [], []\n",
        "for i in range(len(scaled_data) - sequence_length):\n",
        "    X.append(scaled_data[i:i + sequence_length, :-1])  # 환경 변수\n",
        "    y.append(scaled_data[i + sequence_length, -1])    # 농산물 가격\n",
        "\n",
        "X = np.array(X)\n",
        "y = np.array(y)\n"
      ]
    },
    {
      "cell_type": "code",
      "source": [
        "class TimeSeriesDataset(Dataset):\n",
        "    def __init__(self, X, y):\n",
        "        self.X = torch.tensor(X, dtype=torch.float32)\n",
        "        self.y = torch.tensor(y, dtype=torch.float32)\n",
        "\n",
        "    def __len__(self):\n",
        "        return len(self.X)\n",
        "\n",
        "    def __getitem__(self, idx):\n",
        "        return self.X[idx], self.y[idx]\n",
        "\n",
        "# 데이터 분할 (80% 학습, 20% 테스트)\n",
        "split = int(len(X) * 0.8)\n",
        "train_dataset = TimeSeriesDataset(X[:split], y[:split])\n",
        "test_dataset = TimeSeriesDataset(X[split:], y[split:])\n",
        "\n",
        "train_loader = DataLoader(train_dataset, batch_size=32, shuffle=True)\n",
        "test_loader = DataLoader(test_dataset, batch_size=32, shuffle=False)"
      ],
      "metadata": {
        "id": "QGjhY834riPZ"
      },
      "execution_count": 2,
      "outputs": []
    },
    {
      "cell_type": "code",
      "source": [
        "import torch.nn as nn\n",
        "\n",
        "class TransformerModel(nn.Module):\n",
        "    def __init__(self, input_dim, embed_dim, num_heads, ff_dim, num_layers, output_dim):\n",
        "        super(TransformerModel, self).__init__()\n",
        "        self.embedding = nn.Linear(input_dim, embed_dim)\n",
        "\n",
        "        # Transformer Encoder\n",
        "        encoder_layer = nn.TransformerEncoderLayer(\n",
        "            d_model=embed_dim,\n",
        "            nhead=num_heads,\n",
        "            dim_feedforward=ff_dim,\n",
        "            batch_first=True  # Ensure batch is the first dimension\n",
        "        )\n",
        "        self.encoder = nn.TransformerEncoder(encoder_layer, num_layers=num_layers)\n",
        "\n",
        "        self.fc = nn.Linear(embed_dim, output_dim)\n",
        "\n",
        "    def forward(self, x):\n",
        "        x = self.embedding(x)  # [batch_size, seq_len, embed_dim]\n",
        "        x = self.encoder(x)    # [batch_size, seq_len, embed_dim]\n",
        "        x = x[:, -1, :]        # Use the last sequence output\n",
        "        return self.fc(x)      # [batch_size, output_dim]\n"
      ],
      "metadata": {
        "id": "9egzWo3FvqCr"
      },
      "execution_count": 3,
      "outputs": []
    },
    {
      "cell_type": "code",
      "source": [
        "import torch.optim as optim\n",
        "import matplotlib.pyplot as plt\n",
        "\n",
        "# 하이퍼파라미터 설정\n",
        "input_dim = 29         # 환경 변수\n",
        "embed_dim = 64        # 임베딩 차원\n",
        "num_heads = 4         # 멀티헤드 수\n",
        "ff_dim = 128          # 피드포워드 네트워크 차원\n",
        "num_layers = 2        # Transformer 레이어 수\n",
        "output_dim = 1        # 예측 값 (가격)\n",
        "epoch_losses=[]\n",
        "\n",
        "device = torch.device(\"cuda\" if torch.cuda.is_available() else \"cpu\")\n",
        "model = TransformerModel(input_dim, embed_dim, num_heads, ff_dim, num_layers, output_dim).to(device)\n",
        "\n",
        "criterion = nn.MSELoss()\n",
        "optimizer = optim.Adam(model.parameters(), lr=0.001)\n",
        "\n",
        "# 학습\n",
        "epochs = 20\n",
        "for epoch in range(epochs):\n",
        "    model.train()\n",
        "    train_loss = 0.0\n",
        "    for X_batch, y_batch in train_loader:\n",
        "        X_batch, y_batch = X_batch.to(device), y_batch.to(device)\n",
        "        optimizer.zero_grad()\n",
        "        outputs = model(X_batch)\n",
        "        loss = criterion(outputs.squeeze(), y_batch)\n",
        "        loss.backward()\n",
        "        optimizer.step()\n",
        "        train_loss += loss.item()\n",
        "        plt_loss=train_loss / len(train_loader)\n",
        "\n",
        "    avg_loss = train_loss / len(train_loader)\n",
        "    epoch_losses.append(avg_loss)\n",
        "    print(f\"Epoch {epoch + 1}/{epochs}, Loss: {avg_loss:.4f}\")\n",
        "\n",
        "plt.figure(figsize=(10, 6))\n",
        "plt.plot(range(1, len(epoch_losses) + 1), epoch_losses, marker='o', linestyle='-', label='Training Loss')\n",
        "plt.title('Training Loss Over Epochs')\n",
        "plt.xlabel('Epoch')\n",
        "plt.ylabel('Loss')\n",
        "plt.xticks(range(1, len(epoch_losses) + 1))\n",
        "plt.grid(True)\n",
        "plt.legend()\n",
        "plt.show()\n"
      ],
      "metadata": {
        "colab": {
          "base_uri": "https://localhost:8080/",
          "height": 931
        },
        "id": "JJ85_HKOKlEw",
        "outputId": "80640719-ead9-4193-951d-5a87a0e363f1"
      },
      "execution_count": 4,
      "outputs": [
        {
          "output_type": "stream",
          "name": "stdout",
          "text": [
            "Epoch 1/20, Loss: 0.0579\n",
            "Epoch 2/20, Loss: 0.0192\n",
            "Epoch 3/20, Loss: 0.0165\n",
            "Epoch 4/20, Loss: 0.0133\n",
            "Epoch 5/20, Loss: 0.0126\n",
            "Epoch 6/20, Loss: 0.0102\n",
            "Epoch 7/20, Loss: 0.0114\n",
            "Epoch 8/20, Loss: 0.0075\n",
            "Epoch 9/20, Loss: 0.0071\n",
            "Epoch 10/20, Loss: 0.0064\n",
            "Epoch 11/20, Loss: 0.0063\n",
            "Epoch 12/20, Loss: 0.0053\n",
            "Epoch 13/20, Loss: 0.0052\n",
            "Epoch 14/20, Loss: 0.0039\n",
            "Epoch 15/20, Loss: 0.0044\n",
            "Epoch 16/20, Loss: 0.0040\n",
            "Epoch 17/20, Loss: 0.0038\n",
            "Epoch 18/20, Loss: 0.0035\n",
            "Epoch 19/20, Loss: 0.0034\n",
            "Epoch 20/20, Loss: 0.0034\n"
          ]
        },
        {
          "output_type": "display_data",
          "data": {
            "text/plain": [
              "<Figure size 1000x600 with 1 Axes>"
            ],
            "image/png": "[encoded data removed]"
          },
          "metadata": {}
        }
      ]
    },
    {
      "cell_type": "code",
      "source": [
        "# 테스트\n",
        "model.eval()\n",
        "test_loss = 0.0\n",
        "with torch.no_grad():\n",
        "    for X_batch, y_batch in test_loader:\n",
        "        X_batch, y_batch = X_batch.to(device), y_batch.to(device)\n",
        "        outputs = model(X_batch)\n",
        "        loss = criterion(outputs.squeeze(), y_batch)\n",
        "        test_loss += loss.item()\n",
        "\n",
        "print(f\"Test Loss: {test_loss / len(test_loader):.4f}\")"
      ],
      "metadata": {
        "id": "wQa1tNVLKnvI",
        "colab": {
          "base_uri": "https://localhost:8080/"
        },
        "outputId": "a70f6bf3-59e0-484d-f12f-23493924fac2"
      },
      "execution_count": 5,
      "outputs": [
        {
          "output_type": "stream",
          "name": "stdout",
          "text": [
            "Test Loss: 0.0305\n"
          ]
        }
      ]
    }
  ]
}