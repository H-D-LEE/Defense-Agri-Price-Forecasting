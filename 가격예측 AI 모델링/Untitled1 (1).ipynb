{
 "cells": [
  {
   "cell_type": "code",
   "execution_count": 233,
   "id": "d4aadc5b-f4ae-4522-af50-4d98a97df0c5",
   "metadata": {},
   "outputs": [
    {
     "name": "stdout",
     "output_type": "stream",
     "text": [
      "파일이 .xlsx 형식으로 성공적으로 변환되었습니다.\n"
     ]
    }
   ],
   "source": [
    "import pandas as pd\n",
    "\n",
    "# 원본 파일 경로와 변환 후 파일 경로 설정\n",
    "input_file = 'C:/Users/user/Downloads/애호박10_상품.xls'\n",
    "output_file = 'C:/Users/user/Downloads/애호박_상품10.xlsx'\n",
    "\n",
    "# Excel 파일 읽기\n",
    "df = pd.read_html(input_file)[0]\n",
    "\n",
    "# 새로운 .xlsx 형식으로 저장\n",
    "df.to_excel(output_file, index=False)\n",
    "print(\"파일이 .xlsx 형식으로 성공적으로 변환되었습니다.\")"
   ]
  },
  {
   "cell_type": "code",
   "execution_count": 5,
   "id": "b50c37b9-77d8-481d-a5c4-ce4d2afea7eb",
   "metadata": {},
   "outputs": [
    {
     "name": "stdout",
     "output_type": "stream",
     "text": [
      "Defaulting to user installation because normal site-packages is not writeable\n",
      "Requirement already satisfied: xlrd in c:\\users\\user\\appdata\\roaming\\python\\python312\\site-packages (2.0.1)\n",
      "Note: you may need to restart the kernel to use updated packages.\n"
     ]
    },
    {
     "name": "stderr",
     "output_type": "stream",
     "text": [
      "DEPRECATION: Loading egg at c:\\anaconda\\lib\\site-packages\\vboxapi-1.0-py3.12.egg is deprecated. pip 24.3 will enforce this behaviour change. A possible replacement is to use pip for package installation.. Discussion can be found at https://github.com/pypa/pip/issues/12330\n"
     ]
    }
   ],
   "source": [
    "pip install xlrd"
   ]
  },
  {
   "cell_type": "code",
   "execution_count": 109,
   "id": "869b2c6e-4bde-4aae-adaa-19ef4c09350b",
   "metadata": {},
   "outputs": [
    {
     "name": "stdout",
     "output_type": "stream",
     "text": [
      "Defaulting to user installation because normal site-packages is not writeable\n",
      "Collecting html5lib\n",
      "  Downloading html5lib-1.1-py2.py3-none-any.whl.metadata (16 kB)\n",
      "Requirement already satisfied: six>=1.9 in c:\\anaconda\\lib\\site-packages (from html5lib) (1.16.0)\n",
      "Requirement already satisfied: webencodings in c:\\anaconda\\lib\\site-packages (from html5lib) (0.5.1)\n",
      "Downloading html5lib-1.1-py2.py3-none-any.whl (112 kB)\n",
      "   ---------------------------------------- 0.0/112.2 kB ? eta -:--:--\n",
      "   --------------------- ------------------ 61.4/112.2 kB 1.7 MB/s eta 0:00:01\n",
      "   ---------------------------------------- 112.2/112.2 kB 2.2 MB/s eta 0:00:00\n",
      "Installing collected packages: html5lib\n",
      "Successfully installed html5lib-1.1\n",
      "Note: you may need to restart the kernel to use updated packages.\n"
     ]
    },
    {
     "name": "stderr",
     "output_type": "stream",
     "text": [
      "DEPRECATION: Loading egg at c:\\anaconda\\lib\\site-packages\\vboxapi-1.0-py3.12.egg is deprecated. pip 24.3 will enforce this behaviour change. A possible replacement is to use pip for package installation.. Discussion can be found at https://github.com/pypa/pip/issues/12330\n"
     ]
    }
   ],
   "source": [
    "pip install html5lib"
   ]
  },
  {
   "cell_type": "code",
   "execution_count": 105,
   "id": "edd1016e-922d-483b-a4d8-494d2e3e8ada",
   "metadata": {},
   "outputs": [
    {
     "name": "stdout",
     "output_type": "stream",
     "text": [
      "모든 파일이 성공적으로 병합되어 저장되었습니다.\n"
     ]
    }
   ],
   "source": [
    "import pandas as pd\n",
    "import glob\n",
    "\n",
    "# 파일 경로 패턴 설정\n",
    "file_pattern = 'C:/Users/user/Downloads/소매가격 채소류, 무, 전체, 중품 *.xlsx'\n",
    "\n",
    "# 파일을 읽고, 데이터프레임 리스트 생성\n",
    "dataframes = []\n",
    "for file in sorted(glob.glob(file_pattern)):\n",
    "    df = pd.read_excel(file)\n",
    "    dataframes.append(df)\n",
    "\n",
    "# 모든 데이터프레임을 하나로 병합 (행을 기준으로 추가)\n",
    "merged_df = pd.concat(dataframes, ignore_index=True)\n",
    "\n",
    "# 합친 결과를 Excel 파일로 저장\n",
    "output_file = 'C:/Users/user/Downloads/소매가격 채소류_무_전체_병합.xlsx'\n",
    "merged_df.to_excel(output_file, index=False)\n",
    "print(\"모든 파일이 성공적으로 병합되어 저장되었습니다.\")\n"
   ]
  },
  {
   "cell_type": "code",
   "execution_count": 245,
   "id": "88eeb4cb-24ee-4274-9daa-7083ee09337c",
   "metadata": {},
   "outputs": [
    {
     "name": "stdout",
     "output_type": "stream",
     "text": [
      "애호박10_상품.xlsx 파일로 성공적으로 변환되었습니다.\n",
      "애호박1_상품.xlsx 파일로 성공적으로 변환되었습니다.\n",
      "애호박2_상품.xlsx 파일로 성공적으로 변환되었습니다.\n",
      "애호박3_상품.xlsx 파일로 성공적으로 변환되었습니다.\n",
      "애호박4_상품.xlsx 파일로 성공적으로 변환되었습니다.\n",
      "애호박5_상품.xlsx 파일로 성공적으로 변환되었습니다.\n",
      "애호박6_상품.xlsx 파일로 성공적으로 변환되었습니다.\n",
      "애호박7_상품.xlsx 파일로 성공적으로 변환되었습니다.\n",
      "애호박8_상품.xlsx 파일로 성공적으로 변환되었습니다.\n",
      "애호박9_상품.xlsx 파일로 성공적으로 변환되었습니다.\n"
     ]
    }
   ],
   "source": [
    "import pandas as pd\n",
    "import glob\n",
    "import os\n",
    "\n",
    "# 파일 경로 패턴 설정 (사과_중품1.xls부터 사과_중품22.xls까지)\n",
    "input_pattern = 'C:/Users/user/Downloads/애호박*_상품.xls'\n",
    "\n",
    "# 파일 경로 리스트 가져오기\n",
    "input_files = sorted(glob.glob(input_pattern))\n",
    "\n",
    "# 각 파일을 열고, .xlsx 형식으로 변환하여 저장\n",
    "for input_file in input_files:\n",
    "    # 파일명만 추출하여 .xlsx 확장자로 변경\n",
    "    file_name = os.path.splitext(os.path.basename(input_file))[0]\n",
    "    output_file = f'C:/Users/user/Downloads/{file_name}.xlsx'\n",
    "    \n",
    "    try:\n",
    "        # Excel 파일 읽기\n",
    "        df = pd.read_excel(input_file, engine='xlrd')\n",
    "        \n",
    "        # 새로운 .xlsx 형식으로 저장\n",
    "        df.to_excel(output_file, index=False)\n",
    "        print(f\"{file_name}.xlsx 파일로 성공적으로 변환되었습니다.\")\n",
    "    except Exception as e:\n",
    "        print(f\"{file_name} 파일 처리 중 오류 발생: {e}\")"
   ]
  },
  {
   "cell_type": "code",
   "execution_count": 247,
   "id": "24238c15-0d76-447d-9ed4-3de46555cc08",
   "metadata": {},
   "outputs": [
    {
     "name": "stdout",
     "output_type": "stream",
     "text": [
      "모든 파일이 성공적으로 병합되어 저장되었습니다.\n"
     ]
    }
   ],
   "source": [
    "import pandas as pd\n",
    "import glob\n",
    "\n",
    "# 파일 경로 패턴 설정\n",
    "file_pattern = 'C:/Users/user/Downloads/애호박_상품*.xlsx'\n",
    "\n",
    "# 파일을 읽고, 데이터프레임 리스트 생성\n",
    "dataframes = []\n",
    "for file in sorted(glob.glob(file_pattern)):\n",
    "    df = pd.read_excel(file)\n",
    "    dataframes.append(df)\n",
    "\n",
    "# 모든 데이터프레임을 하나로 병합 (행을 기준으로 추가)\n",
    "merged_df = pd.concat(dataframes, ignore_index=True)\n",
    "\n",
    "# 합친 결과를 Excel 파일로 저장\n",
    "output_file = 'C:/Users/user/Downloads/애호박_상품_1개_일별소매가.xlsx'\n",
    "merged_df.to_excel(output_file, index=False)\n",
    "print(\"모든 파일이 성공적으로 병합되어 저장되었습니다.\")"
   ]
  },
  {
   "cell_type": "code",
   "execution_count": null,
   "id": "a1c5b907-d668-438d-b97a-ba4eb4f32191",
   "metadata": {},
   "outputs": [],
   "source": []
  }
 ],
 "metadata": {
  "kernelspec": {
   "display_name": "Python 3 (ipykernel)",
   "language": "python",
   "name": "python3"
  },
  "language_info": {
   "codemirror_mode": {
    "name": "ipython",
    "version": 3
   },
   "file_extension": ".py",
   "mimetype": "text/x-python",
   "name": "python",
   "nbconvert_exporter": "python",
   "pygments_lexer": "ipython3",
   "version": "3.12.4"
  }
 },
 "nbformat": 4,
 "nbformat_minor": 5
}
