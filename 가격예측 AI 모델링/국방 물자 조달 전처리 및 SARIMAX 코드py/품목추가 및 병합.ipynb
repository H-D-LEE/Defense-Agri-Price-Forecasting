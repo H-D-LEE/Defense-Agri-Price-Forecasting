{
 "cells": [
  {
   "cell_type": "code",
   "execution_count": 15,
   "id": "fc9fbf02-2b75-4dd4-8f7b-00e603daf4d1",
   "metadata": {},
   "outputs": [
    {
     "name": "stdout",
     "output_type": "stream",
     "text": [
      "           구분     평균   전통시장   유통업체  품목\n",
      "0  2014-01-02  202.0  200.0  204.0  감자\n",
      "1  2014-01-03  208.0  200.0  215.0  감자\n",
      "2  2014-01-04  208.0  200.0  215.0  감자\n",
      "3  2014-01-05  208.0  200.0  215.0  감자\n",
      "4  2014-01-06  281.0  217.0  323.0  감자\n",
      "병합된 파일이 저장되었습니다: C:/Users/acorn/Documents/python/일별소매가/품목_소매가_전부.csv\n"
     ]
    }
   ],
   "source": [
    "import pandas as pd\n",
    "\n",
    "# 파일 경로\n",
    "files = {\n",
    "    \"감자\": \"C:/Users/acorn/Documents/python/일별소매가/결과/감자_100g_과거+예측데이터.csv\",\n",
    "    \"건고추\": \"C:/Users/acorn/Documents/python/일별소매가/건고추_600g_과거+예측데이터.csv\",\n",
    "    \"고구마\": \"C:/Users/acorn/Documents/python/일별소매가/processed_고구마_상품_1kg_일별소매가.csv\",\n",
    "    \"깐마늘\": \"C:/Users/acorn/Documents/python/일별소매가/processed_깐마늘_상품_1kg_일별소매가.csv\",\n",
    "    \"당근\": \"C:/Users/acorn/Documents/python/일별소매가/processed_당근_상품_1kg_일별소매가.csv\",\n",
    "    \"대파\": \"C:/Users/acorn/Documents/python/일별소매가/processed_대파_상품_1kg_일별소매가.csv\",\n",
    "    \"무\": \"C:/Users/acorn/Documents/python/일별소매가/processed_무_상품_1개_일별소매가.csv\",\n",
    "    \"배추\": \"C:/Users/acorn/Documents/python/일별소매가/processed_배추_상품_1포기_일별소매가.csv\",\n",
    "    \"시금치\": \"C:/Users/acorn/Documents/python/일별소매가/processed_시금치_상품_100g_일별소매가.csv\",\n",
    "    \"쌀\": \"C:/Users/acorn/Documents/python/일별소매가/processed_쌀_상품_20kg_일별소매가.csv\",\n",
    "    \"양배추\": \"C:/Users/acorn/Documents/python/일별소매가/processed_양배추_상품_1포기_일별소매가.csv\",\n",
    "    \"양파\": \"C:/Users/acorn/Documents/python/일별소매가/processed_양파_상품_1kg_일별소매가.csv\",\n",
    "    \"오이\": \"C:/Users/acorn/Documents/python/일별소매가/processed_오이_상품_10개_일별소매가.csv\"\n",
    "}\n",
    "\n",
    "# 각 파일을 읽고 품목 컬럼 추가\n",
    "dataframes = []\n",
    "for item, filepath in files.items():\n",
    "    df = pd.read_csv(filepath, encoding=\"cp949\")\n",
    "    df[\"품목\"] = item  # 품목 컬럼 추가\n",
    "    dataframes.append(df)\n",
    "\n",
    "# 데이터프레임 병합\n",
    "merged_df = pd.concat(dataframes, ignore_index=True)\n",
    "\n",
    "# 결과 확인\n",
    "print(merged_df.head())\n",
    "\n",
    "# 저장 (옵션)\n",
    "output_path = \"C:/Users/acorn/Documents/python/일별소매가/품목_소매가_전부.csv\"\n",
    "merged_df.to_csv(output_path, index=False, encoding=\"cp949\")\n",
    "print(f\"병합된 파일이 저장되었습니다: {output_path}\")"
   ]
  },
  {
   "cell_type": "code",
   "execution_count": 35,
   "id": "df04ac04-ded9-4221-9fb5-51eb4d6c4909",
   "metadata": {},
   "outputs": [
    {
     "name": "stdout",
     "output_type": "stream",
     "text": [
      "        DATE 품목명   총반입량     전일     전년  서울청과    농협  중앙청과   동화청과  한국청과  대아청과  \\\n",
      "0 2024-11-09  감자  201.0  244.0  184.0  15.0   6.0  16.0   94.0  70.0   0.0   \n",
      "1 2024-11-08  감자  244.0  247.0  249.0  40.0  11.0  38.0   92.0  63.0   0.0   \n",
      "2 2024-11-07  감자  247.0  208.0  236.0  30.0   4.0  49.0  104.0  60.0   0.0   \n",
      "3 2024-11-06  감자  208.0  199.0  234.0  45.0  10.0  23.0   89.0  41.0   0.0   \n",
      "4 2024-11-05  감자  199.0  194.0    0.0  23.0   6.0  23.0   67.0  80.0   0.0   \n",
      "\n",
      "   연도  지배면적(천ha)  생산량(톤)  \n",
      "0 NaN        NaN     NaN  \n",
      "1 NaN        NaN     NaN  \n",
      "2 NaN        NaN     NaN  \n",
      "3 NaN        NaN     NaN  \n",
      "4 NaN        NaN     NaN  \n",
      "병합된 파일이 저장되었습니다: C:/Users/acorn/Documents/python/출하량_가락/품목_출하량_전부.csv\n"
     ]
    }
   ],
   "source": [
    "import pandas as pd\n",
    "\n",
    "# 파일 경로\n",
    "files = {\n",
    "    \"감자\": \"C:/Users/acorn/Documents/python/출하량_가락/감자_출하량.xlsx\",\n",
    "    \"건고추\": \"C:/Users/acorn/Documents/python/출하량_가락/건고추_출하량.xlsx\",\n",
    "    \"고구마\": \"C:/Users/acorn/Documents/python/출하량_가락/고구마_출하량.xlsx\",\n",
    "    \"깐마늘\": \"C:/Users/acorn/Documents/python/출하량_가락/마늘_출하량.xlsx\",\n",
    "    \"당근\": \"C:/Users/acorn/Documents/python/출하량_가락/당근_출하량.xlsx\",\n",
    "    \"대파\": \"C:/Users/acorn/Documents/python/출하량_가락/대파_출하량.xlsx\",\n",
    "    \"무\": \"C:/Users/acorn/Documents/python/출하량_가락/무_출하량.xlsx\",\n",
    "    \"배추\": \"C:/Users/acorn/Documents/python/출하량_가락/배추_출하량.xlsx\",\n",
    "    \"시금치\": \"C:/Users/acorn/Documents/python/출하량_가락/시금치_출하량.xlsx\",\n",
    "    \"쌀\": \"C:/Users/acorn/Documents/python/출하량_가락/쌀_생산량_재배면적.xlsx\",\n",
    "    \"양배추\": \"C:/Users/acorn/Documents/python/출하량_가락/양배추_출하량.xlsx\",\n",
    "    \"양파\": \"C:/Users/acorn/Documents/python/출하량_가락/양파_출하량.xlsx\",\n",
    "    \"오이\": \"C:/Users/acorn/Documents/python/출하량_가락/오이_출하량.xlsx\"\n",
    "}\n",
    "\n",
    "# 각 파일을 읽고 품목 컬럼 추가\n",
    "dataframes = []\n",
    "for item, filepath in files.items():\n",
    "    df = pd.read_excel(filepath)\n",
    "    dataframes.append(df)\n",
    "\n",
    "# 데이터프레임 병합\n",
    "merged_df = pd.concat(dataframes, ignore_index=True)\n",
    "\n",
    "# 결과 확인\n",
    "print(merged_df.head())\n",
    "\n",
    "# 저장 (옵션)\n",
    "output_path = \"C:/Users/acorn/Documents/python/출하량_가락/품목_출하량_전부.csv\"\n",
    "merged_df.to_csv(output_path, index=False, encoding=\"cp949\")\n",
    "print(f\"병합된 파일이 저장되었습니다: {output_path}\")"
   ]
  },
  {
   "cell_type": "code",
   "execution_count": null,
   "id": "11f140a5-c4ca-401a-b9e9-e065edf62833",
   "metadata": {},
   "outputs": [],
   "source": []
  }
 ],
 "metadata": {
  "kernelspec": {
   "display_name": "Python 3 (ipykernel)",
   "language": "python",
   "name": "python3"
  },
  "language_info": {
   "codemirror_mode": {
    "name": "ipython",
    "version": 3
   },
   "file_extension": ".py",
   "mimetype": "text/x-python",
   "name": "python",
   "nbconvert_exporter": "python",
   "pygments_lexer": "ipython3",
   "version": "3.12.7"
  }
 },
 "nbformat": 4,
 "nbformat_minor": 5
}
