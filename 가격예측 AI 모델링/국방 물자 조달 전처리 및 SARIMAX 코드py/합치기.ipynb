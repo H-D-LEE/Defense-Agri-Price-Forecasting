{
 "cells": [
  {
   "cell_type": "code",
   "execution_count": 5,
   "id": "0cde9ceb-e1fd-4e67-8a0e-01bab4557323",
   "metadata": {},
   "outputs": [
    {
     "name": "stdout",
     "output_type": "stream",
     "text": [
      "Collecting html5lib\n",
      "  Downloading html5lib-1.1-py2.py3-none-any.whl.metadata (16 kB)\n",
      "Requirement already satisfied: six>=1.9 in c:\\users\\acorn\\anaconda3\\lib\\site-packages (from html5lib) (1.16.0)\n",
      "Requirement already satisfied: webencodings in c:\\users\\acorn\\anaconda3\\lib\\site-packages (from html5lib) (0.5.1)\n",
      "Downloading html5lib-1.1-py2.py3-none-any.whl (112 kB)\n",
      "Installing collected packages: html5lib\n",
      "Successfully installed html5lib-1.1\n",
      "Note: you may need to restart the kernel to use updated packages.\n"
     ]
    }
   ],
   "source": [
    "pip install html5lib"
   ]
  },
  {
   "cell_type": "code",
   "execution_count": 59,
   "id": "8c01bb73-64a1-4b01-8f62-3f878142fc3f",
   "metadata": {},
   "outputs": [
    {
     "ename": "com_error",
     "evalue": "(-2147352567, '예외가 발생했습니다.', (0, 'Microsoft Excel', \"'C:\\\\//Users/acorn/Downloads/새송이/새송이/0FA9B250' 파일을 사용할 수 없습니다. 원인은 다음과 같습니다.\\n\\n• 해당 파일 이름이나 경로가 없습니다.\\n• 다른 프로그램에서 파일을 사용하고 있습니다.\\n• 저장하려고 하는 통합 문서 이름이 현재 열려 있는 통합 문서의 이름과 같습니다.\", 'xlmain11.chm', 0, -2146827284), None)",
     "output_type": "error",
     "traceback": [
      "\u001b[1;31m---------------------------------------------------------------------------\u001b[0m",
      "\u001b[1;31mcom_error\u001b[0m                                 Traceback (most recent call last)",
      "Cell \u001b[1;32mIn[59], line 7\u001b[0m\n\u001b[0;32m      4\u001b[0m excel \u001b[38;5;241m=\u001b[39m win32\u001b[38;5;241m.\u001b[39mgencache\u001b[38;5;241m.\u001b[39mEnsureDispatch(\u001b[38;5;124m'\u001b[39m\u001b[38;5;124mExcel.Application\u001b[39m\u001b[38;5;124m'\u001b[39m)\n\u001b[0;32m      5\u001b[0m wb \u001b[38;5;241m=\u001b[39m excel\u001b[38;5;241m.\u001b[39mWorkbooks\u001b[38;5;241m.\u001b[39mOpen(fname)\n\u001b[1;32m----> 7\u001b[0m wb\u001b[38;5;241m.\u001b[39mSaveAs(fname\u001b[38;5;241m+\u001b[39m\u001b[38;5;124m\"\u001b[39m\u001b[38;5;124mx\u001b[39m\u001b[38;5;124m\"\u001b[39m, FileFormat \u001b[38;5;241m=\u001b[39m \u001b[38;5;241m51\u001b[39m) \u001b[38;5;66;03m#FileFormat = 51 is for .xlsx extension\u001b[39;00m\n\u001b[0;32m      8\u001b[0m wb\u001b[38;5;241m.\u001b[39mClose() \u001b[38;5;66;03m#FileFormat = 56 is for .xls extension\u001b[39;00m\n\u001b[0;32m      9\u001b[0m excel\u001b[38;5;241m.\u001b[39mApplication\u001b[38;5;241m.\u001b[39mQuit()\n",
      "File \u001b[1;32m~\\anaconda3\\Lib\\site-packages\\win32com\\gen_py\\00020813-0000-0000-C000-000000000046x0x1x9\\_Workbook.py:285\u001b[0m, in \u001b[0;36m_Workbook.SaveAs\u001b[1;34m(self, Filename, FileFormat, Password, WriteResPassword, ReadOnlyRecommended, CreateBackup, AccessMode, ConflictResolution, AddToMru, TextCodepage, TextVisualLayout, Local, WorkIdentity)\u001b[0m\n\u001b[0;32m    282\u001b[0m \u001b[38;5;28;01mdef\u001b[39;00m \u001b[38;5;21mSaveAs\u001b[39m(\u001b[38;5;28mself\u001b[39m, Filename\u001b[38;5;241m=\u001b[39mdefaultNamedNotOptArg, FileFormat\u001b[38;5;241m=\u001b[39mdefaultNamedNotOptArg, Password\u001b[38;5;241m=\u001b[39mdefaultNamedNotOptArg, WriteResPassword\u001b[38;5;241m=\u001b[39mdefaultNamedNotOptArg\n\u001b[0;32m    283\u001b[0m \t\t, ReadOnlyRecommended\u001b[38;5;241m=\u001b[39mdefaultNamedNotOptArg, CreateBackup\u001b[38;5;241m=\u001b[39mdefaultNamedNotOptArg, AccessMode\u001b[38;5;241m=\u001b[39m\u001b[38;5;241m1\u001b[39m, ConflictResolution\u001b[38;5;241m=\u001b[39mdefaultNamedOptArg, AddToMru\u001b[38;5;241m=\u001b[39mdefaultNamedOptArg\n\u001b[0;32m    284\u001b[0m \t\t, TextCodepage\u001b[38;5;241m=\u001b[39mdefaultNamedOptArg, TextVisualLayout\u001b[38;5;241m=\u001b[39mdefaultNamedOptArg, Local\u001b[38;5;241m=\u001b[39mdefaultNamedOptArg, WorkIdentity\u001b[38;5;241m=\u001b[39mdefaultNamedOptArg):\n\u001b[1;32m--> 285\u001b[0m \t\u001b[38;5;28;01mreturn\u001b[39;00m \u001b[38;5;28mself\u001b[39m\u001b[38;5;241m.\u001b[39m_oleobj_\u001b[38;5;241m.\u001b[39mInvokeTypes(\u001b[38;5;241m3174\u001b[39m, LCID, \u001b[38;5;241m1\u001b[39m, (\u001b[38;5;241m24\u001b[39m, \u001b[38;5;241m0\u001b[39m), ((\u001b[38;5;241m12\u001b[39m, \u001b[38;5;241m17\u001b[39m), (\u001b[38;5;241m12\u001b[39m, \u001b[38;5;241m17\u001b[39m), (\u001b[38;5;241m12\u001b[39m, \u001b[38;5;241m17\u001b[39m), (\u001b[38;5;241m12\u001b[39m, \u001b[38;5;241m17\u001b[39m), (\u001b[38;5;241m12\u001b[39m, \u001b[38;5;241m17\u001b[39m), (\u001b[38;5;241m12\u001b[39m, \u001b[38;5;241m17\u001b[39m), (\u001b[38;5;241m3\u001b[39m, \u001b[38;5;241m49\u001b[39m), (\u001b[38;5;241m12\u001b[39m, \u001b[38;5;241m17\u001b[39m), (\u001b[38;5;241m12\u001b[39m, \u001b[38;5;241m17\u001b[39m), (\u001b[38;5;241m12\u001b[39m, \u001b[38;5;241m17\u001b[39m), (\u001b[38;5;241m12\u001b[39m, \u001b[38;5;241m17\u001b[39m), (\u001b[38;5;241m12\u001b[39m, \u001b[38;5;241m17\u001b[39m), (\u001b[38;5;241m12\u001b[39m, \u001b[38;5;241m17\u001b[39m)),Filename\n\u001b[0;32m    286\u001b[0m \t\t, FileFormat, Password, WriteResPassword, ReadOnlyRecommended, CreateBackup\n\u001b[0;32m    287\u001b[0m \t\t, AccessMode, ConflictResolution, AddToMru, TextCodepage, TextVisualLayout\n\u001b[0;32m    288\u001b[0m \t\t, Local, WorkIdentity)\n",
      "\u001b[1;31mcom_error\u001b[0m: (-2147352567, '예외가 발생했습니다.', (0, 'Microsoft Excel', \"'C:\\\\//Users/acorn/Downloads/새송이/새송이/0FA9B250' 파일을 사용할 수 없습니다. 원인은 다음과 같습니다.\\n\\n• 해당 파일 이름이나 경로가 없습니다.\\n• 다른 프로그램에서 파일을 사용하고 있습니다.\\n• 저장하려고 하는 통합 문서 이름이 현재 열려 있는 통합 문서의 이름과 같습니다.\", 'xlmain11.chm', 0, -2146827284), None)"
     ]
    }
   ],
   "source": [
    "# xls to xlsx\n",
    "import win32com.client as win32\n",
    "fname = \"C:/Users/acorn/Downloads/새송이/새송이/새송이_상품_100g_일별소매가_1.xls\"\n",
    "excel = win32.gencache.EnsureDispatch('Excel.Application')\n",
    "wb = excel.Workbooks.Open(fname)\n",
    "\n",
    "wb.SaveAs(fname+\"x\", FileFormat = 51) #FileFormat = 51 is for .xlsx extension\n",
    "wb.Close() #FileFormat = 56 is for .xls extension\n",
    "excel.Application.Quit()"
   ]
  },
  {
   "cell_type": "code",
   "execution_count": 103,
   "id": "d4aadc5b-f4ae-4522-af50-4d98a97df0c5",
   "metadata": {},
   "outputs": [
    {
     "name": "stdout",
     "output_type": "stream",
     "text": [
      "파일이 .xlsx 형식으로 성공적으로 변환되었습니다.\n"
     ]
    }
   ],
   "source": [
    "import pandas as pd\n",
    "\n",
    "# 원본 파일 경로와 변환 후 파일 경로 설정\n",
    "input_file = 'C:/Users/acorn/Downloads/새송이/새송이/새송이_상품_100g_일별소매가_22.xls'\n",
    "output_file = 'C:/Users/acorn/Downloads/새송이/새송이/새송이_상품_100g_일별소매가_22.xlsx'\n",
    "\n",
    "# Excel 파일 읽기\n",
    "df = pd.read_html(input_file)[0]\n",
    "\n",
    "# 새로운 .xlsx 형식으로 저장\n",
    "df.to_excel(output_file, index=False)\n",
    "print(\"파일이 .xlsx 형식으로 성공적으로 변환되었습니다.\")"
   ]
  },
  {
   "cell_type": "code",
   "execution_count": 5,
   "id": "b50c37b9-77d8-481d-a5c4-ce4d2afea7eb",
   "metadata": {},
   "outputs": [
    {
     "name": "stdout",
     "output_type": "stream",
     "text": [
      "Defaulting to user installation because normal site-packages is not writeable\n",
      "Requirement already satisfied: xlrd in c:\\users\\user\\appdata\\roaming\\python\\python312\\site-packages (2.0.1)\n",
      "Note: you may need to restart the kernel to use updated packages.\n"
     ]
    },
    {
     "name": "stderr",
     "output_type": "stream",
     "text": [
      "DEPRECATION: Loading egg at c:\\anaconda\\lib\\site-packages\\vboxapi-1.0-py3.12.egg is deprecated. pip 24.3 will enforce this behaviour change. A possible replacement is to use pip for package installation.. Discussion can be found at https://github.com/pypa/pip/issues/12330\n"
     ]
    }
   ],
   "source": [
    "pip install xlrd"
   ]
  },
  {
   "cell_type": "code",
   "execution_count": 109,
   "id": "869b2c6e-4bde-4aae-adaa-19ef4c09350b",
   "metadata": {},
   "outputs": [
    {
     "name": "stdout",
     "output_type": "stream",
     "text": [
      "Defaulting to user installation because normal site-packages is not writeable\n",
      "Collecting html5lib\n",
      "  Downloading html5lib-1.1-py2.py3-none-any.whl.metadata (16 kB)\n",
      "Requirement already satisfied: six>=1.9 in c:\\anaconda\\lib\\site-packages (from html5lib) (1.16.0)\n",
      "Requirement already satisfied: webencodings in c:\\anaconda\\lib\\site-packages (from html5lib) (0.5.1)\n",
      "Downloading html5lib-1.1-py2.py3-none-any.whl (112 kB)\n",
      "   ---------------------------------------- 0.0/112.2 kB ? eta -:--:--\n",
      "   --------------------- ------------------ 61.4/112.2 kB 1.7 MB/s eta 0:00:01\n",
      "   ---------------------------------------- 112.2/112.2 kB 2.2 MB/s eta 0:00:00\n",
      "Installing collected packages: html5lib\n",
      "Successfully installed html5lib-1.1\n",
      "Note: you may need to restart the kernel to use updated packages.\n"
     ]
    },
    {
     "name": "stderr",
     "output_type": "stream",
     "text": [
      "DEPRECATION: Loading egg at c:\\anaconda\\lib\\site-packages\\vboxapi-1.0-py3.12.egg is deprecated. pip 24.3 will enforce this behaviour change. A possible replacement is to use pip for package installation.. Discussion can be found at https://github.com/pypa/pip/issues/12330\n"
     ]
    }
   ],
   "source": [
    "pip install html5lib"
   ]
  },
  {
   "cell_type": "code",
   "execution_count": 13,
   "id": "d910af5e-e513-4d27-997c-08957ff2cc37",
   "metadata": {},
   "outputs": [
    {
     "name": "stdout",
     "output_type": "stream",
     "text": [
      "Note: you may need to restart the kernel to use updated packages.\n"
     ]
    },
    {
     "name": "stderr",
     "output_type": "stream",
     "text": [
      "ERROR: Could not find a version that satisfies the requirement glob (from versions: none)\n",
      "ERROR: No matching distribution found for glob\n"
     ]
    }
   ],
   "source": [
    "pip install glob"
   ]
  },
  {
   "cell_type": "code",
   "execution_count": 17,
   "id": "342141e0-e9b2-48a0-833b-d7d309e07f7b",
   "metadata": {},
   "outputs": [
    {
     "name": "stdout",
     "output_type": "stream",
     "text": [
      "Requirement already satisfied: pip in c:\\users\\acorn\\anaconda3\\lib\\site-packages (24.2)\n",
      "Collecting pip\n",
      "  Using cached pip-24.3.1-py3-none-any.whl.metadata (3.7 kB)\n",
      "Using cached pip-24.3.1-py3-none-any.whl (1.8 MB)\n",
      "Installing collected packages: pip\n",
      "  Attempting uninstall: pip\n",
      "    Found existing installation: pip 24.2\n",
      "    Uninstalling pip-24.2:\n",
      "      Successfully uninstalled pip-24.2\n",
      "Successfully installed pip-24.3.1\n",
      "Note: you may need to restart the kernel to use updated packages.\n"
     ]
    }
   ],
   "source": [
    "pip install --upgrade pip"
   ]
  },
  {
   "cell_type": "code",
   "execution_count": 107,
   "id": "edd1016e-922d-483b-a4d8-494d2e3e8ada",
   "metadata": {},
   "outputs": [
    {
     "name": "stdout",
     "output_type": "stream",
     "text": [
      "모든 파일이 성공적으로 병합되어 저장되었습니다.\n"
     ]
    }
   ],
   "source": [
    "import pandas as pd\n",
    "import glob\n",
    "\n",
    "# 파일 경로 패턴 설정\n",
    "file_pattern = 'C:/Users/acorn/Downloads/새송이/새송이/새송이_상품_100g_일별소매가_*.xlsx'\n",
    "\n",
    "# 파일을 읽고, 데이터프레임 리스트 생성\n",
    "dataframes = []\n",
    "for file in sorted(glob.glob(file_pattern)):\n",
    "    df = pd.read_excel(file)\n",
    "    dataframes.append(df)\n",
    "\n",
    "# 모든 데이터프레임을 하나로 병합 (행을 기준으로 추가)\n",
    "merged_df = pd.concat(dataframes, ignore_index=True)\n",
    "\n",
    "# 합친 결과를 Excel 파일로 저장\n",
    "output_file = 'C:/Users/acorn/Downloads/새송이_상품_100g_일별소매가_전부.xlsx'\n",
    "merged_df.to_excel(output_file, index=False)\n",
    "print(\"모든 파일이 성공적으로 병합되어 저장되었습니다.\")\n"
   ]
  },
  {
   "cell_type": "code",
   "execution_count": 245,
   "id": "88eeb4cb-24ee-4274-9daa-7083ee09337c",
   "metadata": {},
   "outputs": [
    {
     "name": "stdout",
     "output_type": "stream",
     "text": [
      "애호박10_상품.xlsx 파일로 성공적으로 변환되었습니다.\n",
      "애호박1_상품.xlsx 파일로 성공적으로 변환되었습니다.\n",
      "애호박2_상품.xlsx 파일로 성공적으로 변환되었습니다.\n",
      "애호박3_상품.xlsx 파일로 성공적으로 변환되었습니다.\n",
      "애호박4_상품.xlsx 파일로 성공적으로 변환되었습니다.\n",
      "애호박5_상품.xlsx 파일로 성공적으로 변환되었습니다.\n",
      "애호박6_상품.xlsx 파일로 성공적으로 변환되었습니다.\n",
      "애호박7_상품.xlsx 파일로 성공적으로 변환되었습니다.\n",
      "애호박8_상품.xlsx 파일로 성공적으로 변환되었습니다.\n",
      "애호박9_상품.xlsx 파일로 성공적으로 변환되었습니다.\n"
     ]
    }
   ],
   "source": [
    "import pandas as pd\n",
    "import glob\n",
    "import os\n",
    "\n",
    "# 파일 경로 패턴 설정 (사과_중품1.xls부터 사과_중품22.xls까지)\n",
    "input_pattern = 'C:/Users/user/Downloads/애호박*_상품.xls'\n",
    "\n",
    "# 파일 경로 리스트 가져오기\n",
    "input_files = sorted(glob.glob(input_pattern))\n",
    "\n",
    "# 각 파일을 열고, .xlsx 형식으로 변환하여 저장\n",
    "for input_file in input_files:\n",
    "    # 파일명만 추출하여 .xlsx 확장자로 변경\n",
    "    file_name = os.path.splitext(os.path.basename(input_file))[0]\n",
    "    output_file = f'C:/Users/user/Downloads/{file_name}.xlsx'\n",
    "    \n",
    "    try:\n",
    "        # Excel 파일 읽기\n",
    "        df = pd.read_excel(input_file, engine='xlrd')\n",
    "        \n",
    "        # 새로운 .xlsx 형식으로 저장\n",
    "        df.to_excel(output_file, index=False)\n",
    "        print(f\"{file_name}.xlsx 파일로 성공적으로 변환되었습니다.\")\n",
    "    except Exception as e:\n",
    "        print(f\"{file_name} 파일 처리 중 오류 발생: {e}\")"
   ]
  },
  {
   "cell_type": "code",
   "execution_count": 247,
   "id": "24238c15-0d76-447d-9ed4-3de46555cc08",
   "metadata": {},
   "outputs": [
    {
     "name": "stdout",
     "output_type": "stream",
     "text": [
      "모든 파일이 성공적으로 병합되어 저장되었습니다.\n"
     ]
    }
   ],
   "source": [
    "import pandas as pd\n",
    "import glob\n",
    "\n",
    "# 파일 경로 패턴 설정\n",
    "file_pattern = 'C:/Users/user/Downloads/애호박_상품*.xlsx'\n",
    "\n",
    "# 파일을 읽고, 데이터프레임 리스트 생성\n",
    "dataframes = []\n",
    "for file in sorted(glob.glob(file_pattern)):\n",
    "    df = pd.read_excel(file)\n",
    "    dataframes.append(df)\n",
    "\n",
    "# 모든 데이터프레임을 하나로 병합 (행을 기준으로 추가)\n",
    "merged_df = pd.concat(dataframes, ignore_index=True)\n",
    "\n",
    "# 합친 결과를 Excel 파일로 저장\n",
    "output_file = 'C:/Users/user/Downloads/애호박_상품_1개_일별소매가.xlsx'\n",
    "merged_df.to_excel(output_file, index=False)\n",
    "print(\"모든 파일이 성공적으로 병합되어 저장되었습니다.\")"
   ]
  },
  {
   "cell_type": "code",
   "execution_count": null,
   "id": "a1c5b907-d668-438d-b97a-ba4eb4f32191",
   "metadata": {},
   "outputs": [],
   "source": [
    "import pandas as pd\n",
    "import glob\n",
    "import os\n",
    "\n",
    "# 파일 경로 패턴 설정 (사과_중품1.xls부터 사과_중품22.xls까지)\n",
    "input_pattern = 'C:/Users/user/Downloads/애호박*_상품.xls'\n",
    "\n",
    "# 파일 경로 리스트 가져오기\n",
    "input_files = sorted(glob.glob(input_pattern))\n",
    "\n",
    "# 각 파일을 열고, .xlsx 형식으로 변환하여 저장\n",
    "for input_file in input_files:\n",
    "    # 파일명만 추출하여 .xlsx 확장자로 변경\n",
    "    file_name = os.path.splitext(os.path.basename(input_file))[0]\n",
    "    output_file = f'C:/Users/user/Downloads/{file_name}.xlsx'\n",
    "    \n",
    "    try:\n",
    "        # Excel 파일 읽기\n",
    "        df = pd.read_excel(input_file, engine='xlrd')\n",
    "        \n",
    "        # 새로운 .xlsx 형식으로 저장\n",
    "        df.to_excel(output_file, index=False)\n",
    "        print(f\"{file_name}.xlsx 파일로 성공적으로 변환되었습니다.\")\n",
    "    except Exception as e:\n",
    "        print(f\"{file_name} 파일 처리 중 오류 발생: {e}\")"
   ]
  }
 ],
 "metadata": {
  "kernelspec": {
   "display_name": "Python 3 (ipykernel)",
   "language": "python",
   "name": "python3"
  },
  "language_info": {
   "codemirror_mode": {
    "name": "ipython",
    "version": 3
   },
   "file_extension": ".py",
   "mimetype": "text/x-python",
   "name": "python",
   "nbconvert_exporter": "python",
   "pygments_lexer": "ipython3",
   "version": "3.12.7"
  }
 },
 "nbformat": 4,
 "nbformat_minor": 5
}
