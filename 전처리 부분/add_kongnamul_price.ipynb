{
 "cells": [
  {
   "cell_type": "code",
   "execution_count": 47,
   "id": "6a489063",
   "metadata": {},
   "outputs": [],
   "source": [
    "import pandas as pd\n",
    "import numpy as np"
   ]
  },
  {
   "cell_type": "code",
   "execution_count": 70,
   "id": "5fa019ef",
   "metadata": {},
   "outputs": [],
   "source": [
    "df0=pd.read_csv('C:/Users/chany/OneDrive/바탕 화면/콩나물_상품_340g_일별소매가_전부.csv',encoding='cp949')"
   ]
  },
  {
   "cell_type": "code",
   "execution_count": 71,
   "id": "79a7d068",
   "metadata": {},
   "outputs": [
    {
     "name": "stdout",
     "output_type": "stream",
     "text": [
      "<class 'pandas.core.frame.DataFrame'>\n",
      "RangeIndex: 1391 entries, 0 to 1390\n",
      "Data columns (total 3 columns):\n",
      " #   Column  Non-Null Count  Dtype \n",
      "---  ------  --------------  ----- \n",
      " 0   구분      1391 non-null   object\n",
      " 1   평균      1391 non-null   object\n",
      " 2   유통업체    1391 non-null   object\n",
      "dtypes: object(3)\n",
      "memory usage: 32.7+ KB\n"
     ]
    }
   ],
   "source": [
    "df0.info()"
   ]
  },
  {
   "cell_type": "code",
   "execution_count": 72,
   "id": "9b98d549",
   "metadata": {},
   "outputs": [],
   "source": [
    "df1=pd.read_excel('C:/Users/chany/OneDrive/바탕 화면/가격정보1.xlsx')"
   ]
  },
  {
   "cell_type": "code",
   "execution_count": 73,
   "id": "1ae5c3f5",
   "metadata": {},
   "outputs": [],
   "source": [
    "df1['전통시장']=np.nan\n",
    "df1=df1.sort_values(by = '구분 ')\n",
    "df1.rename(columns={'구분 ': '구분'}, inplace=True)"
   ]
  },
  {
   "cell_type": "code",
   "execution_count": 74,
   "id": "92bb233f",
   "metadata": {},
   "outputs": [
    {
     "data": {
      "text/html": [
       "<div>\n",
       "<style scoped>\n",
       "    .dataframe tbody tr th:only-of-type {\n",
       "        vertical-align: middle;\n",
       "    }\n",
       "\n",
       "    .dataframe tbody tr th {\n",
       "        vertical-align: top;\n",
       "    }\n",
       "\n",
       "    .dataframe thead th {\n",
       "        text-align: right;\n",
       "    }\n",
       "</style>\n",
       "<table border=\"1\" class=\"dataframe\">\n",
       "  <thead>\n",
       "    <tr style=\"text-align: right;\">\n",
       "      <th></th>\n",
       "      <th>구분</th>\n",
       "      <th>평균</th>\n",
       "      <th>유통업체</th>\n",
       "      <th>전통시장</th>\n",
       "    </tr>\n",
       "  </thead>\n",
       "  <tbody>\n",
       "    <tr>\n",
       "      <th>28</th>\n",
       "      <td>2024.10.28</td>\n",
       "      <td>2,325</td>\n",
       "      <td>2,325</td>\n",
       "      <td>NaN</td>\n",
       "    </tr>\n",
       "    <tr>\n",
       "      <th>27</th>\n",
       "      <td>2024.10.29</td>\n",
       "      <td>2,325</td>\n",
       "      <td>2,325</td>\n",
       "      <td>NaN</td>\n",
       "    </tr>\n",
       "    <tr>\n",
       "      <th>26</th>\n",
       "      <td>2024.10.30</td>\n",
       "      <td>2,349</td>\n",
       "      <td>2,349</td>\n",
       "      <td>NaN</td>\n",
       "    </tr>\n",
       "    <tr>\n",
       "      <th>25</th>\n",
       "      <td>2024.10.31</td>\n",
       "      <td>2,349</td>\n",
       "      <td>2,349</td>\n",
       "      <td>NaN</td>\n",
       "    </tr>\n",
       "    <tr>\n",
       "      <th>24</th>\n",
       "      <td>2024.11.01</td>\n",
       "      <td>2,349</td>\n",
       "      <td>2,349</td>\n",
       "      <td>NaN</td>\n",
       "    </tr>\n",
       "  </tbody>\n",
       "</table>\n",
       "</div>"
      ],
      "text/plain": [
       "            구분     평균   유통업체  전통시장\n",
       "28  2024.10.28  2,325  2,325   NaN\n",
       "27  2024.10.29  2,325  2,325   NaN\n",
       "26  2024.10.30  2,349  2,349   NaN\n",
       "25  2024.10.31  2,349  2,349   NaN\n",
       "24  2024.11.01  2,349  2,349   NaN"
      ]
     },
     "execution_count": 74,
     "metadata": {},
     "output_type": "execute_result"
    }
   ],
   "source": [
    "df1.head()"
   ]
  },
  {
   "cell_type": "code",
   "execution_count": 75,
   "id": "37f779bd",
   "metadata": {},
   "outputs": [
    {
     "data": {
      "text/html": [
       "<div>\n",
       "<style scoped>\n",
       "    .dataframe tbody tr th:only-of-type {\n",
       "        vertical-align: middle;\n",
       "    }\n",
       "\n",
       "    .dataframe tbody tr th {\n",
       "        vertical-align: top;\n",
       "    }\n",
       "\n",
       "    .dataframe thead th {\n",
       "        text-align: right;\n",
       "    }\n",
       "</style>\n",
       "<table border=\"1\" class=\"dataframe\">\n",
       "  <thead>\n",
       "    <tr style=\"text-align: right;\">\n",
       "      <th></th>\n",
       "      <th>구분</th>\n",
       "      <th>평균</th>\n",
       "      <th>유통업체</th>\n",
       "      <th>전통시장</th>\n",
       "    </tr>\n",
       "  </thead>\n",
       "  <tbody>\n",
       "    <tr>\n",
       "      <th>0</th>\n",
       "      <td>2021-01-04</td>\n",
       "      <td>2,330</td>\n",
       "      <td>2,330</td>\n",
       "      <td>NaN</td>\n",
       "    </tr>\n",
       "    <tr>\n",
       "      <th>1</th>\n",
       "      <td>2021-01-05</td>\n",
       "      <td>2,330</td>\n",
       "      <td>2,330</td>\n",
       "      <td>NaN</td>\n",
       "    </tr>\n",
       "    <tr>\n",
       "      <th>2</th>\n",
       "      <td>2021-01-06</td>\n",
       "      <td>2,330</td>\n",
       "      <td>2,330</td>\n",
       "      <td>NaN</td>\n",
       "    </tr>\n",
       "    <tr>\n",
       "      <th>3</th>\n",
       "      <td>2021-01-07</td>\n",
       "      <td>2,484</td>\n",
       "      <td>2,484</td>\n",
       "      <td>NaN</td>\n",
       "    </tr>\n",
       "    <tr>\n",
       "      <th>4</th>\n",
       "      <td>2021-01-08</td>\n",
       "      <td>2,492</td>\n",
       "      <td>2,492</td>\n",
       "      <td>NaN</td>\n",
       "    </tr>\n",
       "    <tr>\n",
       "      <th>...</th>\n",
       "      <td>...</td>\n",
       "      <td>...</td>\n",
       "      <td>...</td>\n",
       "      <td>...</td>\n",
       "    </tr>\n",
       "    <tr>\n",
       "      <th>4</th>\n",
       "      <td>2024-11-29</td>\n",
       "      <td>2,381</td>\n",
       "      <td>2,381</td>\n",
       "      <td>NaN</td>\n",
       "    </tr>\n",
       "    <tr>\n",
       "      <th>3</th>\n",
       "      <td>2024-12-02</td>\n",
       "      <td>2,412</td>\n",
       "      <td>2,412</td>\n",
       "      <td>NaN</td>\n",
       "    </tr>\n",
       "    <tr>\n",
       "      <th>2</th>\n",
       "      <td>2024-12-03</td>\n",
       "      <td>2,412</td>\n",
       "      <td>2,412</td>\n",
       "      <td>NaN</td>\n",
       "    </tr>\n",
       "    <tr>\n",
       "      <th>1</th>\n",
       "      <td>2024-12-04</td>\n",
       "      <td>2,421</td>\n",
       "      <td>2,421</td>\n",
       "      <td>NaN</td>\n",
       "    </tr>\n",
       "    <tr>\n",
       "      <th>0</th>\n",
       "      <td>2024-12-05</td>\n",
       "      <td>2,421</td>\n",
       "      <td>2,421</td>\n",
       "      <td>NaN</td>\n",
       "    </tr>\n",
       "  </tbody>\n",
       "</table>\n",
       "<p>1420 rows × 4 columns</p>\n",
       "</div>"
      ],
      "text/plain": [
       "            구분     평균   유통업체  전통시장\n",
       "0   2021-01-04  2,330  2,330   NaN\n",
       "1   2021-01-05  2,330  2,330   NaN\n",
       "2   2021-01-06  2,330  2,330   NaN\n",
       "3   2021-01-07  2,484  2,484   NaN\n",
       "4   2021-01-08  2,492  2,492   NaN\n",
       "..         ...    ...    ...   ...\n",
       "4   2024-11-29  2,381  2,381   NaN\n",
       "3   2024-12-02  2,412  2,412   NaN\n",
       "2   2024-12-03  2,412  2,412   NaN\n",
       "1   2024-12-04  2,421  2,421   NaN\n",
       "0   2024-12-05  2,421  2,421   NaN\n",
       "\n",
       "[1420 rows x 4 columns]"
      ]
     },
     "execution_count": 75,
     "metadata": {},
     "output_type": "execute_result"
    }
   ],
   "source": [
    "df=pd.concat([df0, df1])\n",
    "df['구분'] = df['구분'].str.replace('.', '-', regex=True)\n",
    "df"
   ]
  },
  {
   "cell_type": "code",
   "execution_count": 77,
   "id": "3a0728c1",
   "metadata": {},
   "outputs": [],
   "source": [
    "df.to_csv('콩나물_상품_340g_일별소매가_전부.csv',index=False,encoding='cp949')"
   ]
  }
 ],
 "metadata": {
  "kernelspec": {
   "display_name": "Python 3 (ipykernel)",
   "language": "python",
   "name": "python3"
  },
  "language_info": {
   "codemirror_mode": {
    "name": "ipython",
    "version": 3
   },
   "file_extension": ".py",
   "mimetype": "text/x-python",
   "name": "python",
   "nbconvert_exporter": "python",
   "pygments_lexer": "ipython3",
   "version": "3.9.16"
  }
 },
 "nbformat": 4,
 "nbformat_minor": 5
}
