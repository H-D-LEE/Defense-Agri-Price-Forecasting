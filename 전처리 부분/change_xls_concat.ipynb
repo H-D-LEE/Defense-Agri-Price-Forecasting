{
 "cells": [
  {
   "cell_type": "code",
   "execution_count": 245,
   "id": "88eeb4cb-24ee-4274-9daa-7083ee09337c",
   "metadata": {},
   "outputs": [
    {
     "name": "stdout",
     "output_type": "stream",
     "text": [
      "애호박10_상품.xlsx 파일로 성공적으로 변환되었습니다.\n",
      "애호박1_상품.xlsx 파일로 성공적으로 변환되었습니다.\n",
      "애호박2_상품.xlsx 파일로 성공적으로 변환되었습니다.\n",
      "애호박3_상품.xlsx 파일로 성공적으로 변환되었습니다.\n",
      "애호박4_상품.xlsx 파일로 성공적으로 변환되었습니다.\n",
      "애호박5_상품.xlsx 파일로 성공적으로 변환되었습니다.\n",
      "애호박6_상품.xlsx 파일로 성공적으로 변환되었습니다.\n",
      "애호박7_상품.xlsx 파일로 성공적으로 변환되었습니다.\n",
      "애호박8_상품.xlsx 파일로 성공적으로 변환되었습니다.\n",
      "애호박9_상품.xlsx 파일로 성공적으로 변환되었습니다.\n"
     ]
    }
   ],
   "source": [
    "import pandas as pd\n",
    "import glob\n",
    "import os\n",
    "\n",
    "input_pattern = 'C:/Users/user/Downloads/애호박*_상품.xls'\n",
    "\n",
    "input_files = sorted(glob.glob(input_pattern))\n",
    "\n",
    "for input_file in input_files:\n",
    "    file_name = os.path.splitext(os.path.basename(input_file))[0]\n",
    "    output_file = f'C:/Users/user/Downloads/{file_name}.xlsx'\n",
    "    \n",
    "    try:\n",
    "          df = pd.read_excel(input_file, engine='xlrd')\n",
    "        \n",
    "        # 새로운 .xlsx 형식으로 저장\n",
    "        df.to_excel(output_file, index=False)\n",
    "        print(f\"{file_name}.xlsx 파일로 성공적으로 변환되었습니다.\")\n",
    "    except Exception as e:\n",
    "        print(f\"{file_name} 파일 처리 중 오류 발생: {e}\")"
   ]
  },
  {
   "cell_type": "code",
   "execution_count": 247,
   "id": "24238c15-0d76-447d-9ed4-3de46555cc08",
   "metadata": {},
   "outputs": [
    {
     "name": "stdout",
     "output_type": "stream",
     "text": [
      "모든 파일이 성공적으로 병합되어 저장되었습니다.\n"
     ]
    }
   ],
   "source": [
    "import pandas as pd\n",
    "import glob\n",
    "\n",
    "# 파일 경로 패턴 설정\n",
    "file_pattern = 'C:/Users/user/Downloads/애호박_상품*.xlsx'\n",
    "\n",
    "# 파일을 읽고, 데이터프레임 리스트 생성\n",
    "dataframes = []\n",
    "for file in sorted(glob.glob(file_pattern)):\n",
    "    df = pd.read_excel(file)\n",
    "    dataframes.append(df)\n",
    "\n",
    "# 모든 데이터프레임을 하나로 병합 (행을 기준으로 추가)\n",
    "merged_df = pd.concat(dataframes, ignore_index=True)\n",
    "\n",
    "# 합친 결과를 Excel 파일로 저장\n",
    "output_file = 'C:/Users/user/Downloads/애호박_상품_1개_일별소매가.xlsx'\n",
    "merged_df.to_excel(output_file, index=False)\n",
    "print(\"모든 파일이 성공적으로 병합되어 저장되었습니다.\")"
   ]
  },
  {
   "cell_type": "code",
   "execution_count": null,
   "id": "a1c5b907-d668-438d-b97a-ba4eb4f32191",
   "metadata": {},
   "outputs": [],
   "source": []
  }
 ],
 "metadata": {
  "kernelspec": {
   "display_name": "Python 3 (ipykernel)",
   "language": "python",
   "name": "python3"
  },
  "language_info": {
   "codemirror_mode": {
    "name": "ipython",
    "version": 3
   },
   "file_extension": ".py",
   "mimetype": "text/x-python",
   "name": "python",
   "nbconvert_exporter": "python",
   "pygments_lexer": "ipython3",
   "version": "3.12.7"
  }
 },
 "nbformat": 4,
 "nbformat_minor": 5
}
